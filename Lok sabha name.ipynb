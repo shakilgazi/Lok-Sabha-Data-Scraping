{
 "cells": [
  {
   "cell_type": "code",
   "execution_count": 112,
   "metadata": {},
   "outputs": [
    {
     "name": "stdout",
     "output_type": "stream",
     "text": [
      "Requirement already satisfied: autoscraper in c:\\users\\muhammad shakil\\anaconda3\\anaconda\\lib\\site-packages (1.1.14)\n",
      "Requirement already satisfied: lxml in c:\\users\\muhammad shakil\\anaconda3\\anaconda\\lib\\site-packages (from autoscraper) (4.6.1)\n",
      "Requirement already satisfied: requests in c:\\users\\muhammad shakil\\anaconda3\\anaconda\\lib\\site-packages (from autoscraper) (2.24.0)\n",
      "Requirement already satisfied: bs4 in c:\\users\\muhammad shakil\\anaconda3\\anaconda\\lib\\site-packages (from autoscraper) (0.0.1)\n",
      "Requirement already satisfied: idna<3,>=2.5 in c:\\users\\muhammad shakil\\anaconda3\\anaconda\\lib\\site-packages (from requests->autoscraper) (2.10)\n",
      "Requirement already satisfied: chardet<4,>=3.0.2 in c:\\users\\muhammad shakil\\anaconda3\\anaconda\\lib\\site-packages (from requests->autoscraper) (3.0.4)\n",
      "Requirement already satisfied: certifi>=2017.4.17 in c:\\users\\muhammad shakil\\anaconda3\\anaconda\\lib\\site-packages (from requests->autoscraper) (2020.6.20)\n",
      "Requirement already satisfied: urllib3!=1.25.0,!=1.25.1,<1.26,>=1.21.1 in c:\\users\\muhammad shakil\\anaconda3\\anaconda\\lib\\site-packages (from requests->autoscraper) (1.25.11)\n",
      "Requirement already satisfied: beautifulsoup4 in c:\\users\\muhammad shakil\\anaconda3\\anaconda\\lib\\site-packages (from bs4->autoscraper) (4.9.3)\n",
      "Requirement already satisfied: soupsieve>1.2; python_version >= \"3.0\" in c:\\users\\muhammad shakil\\anaconda3\\anaconda\\lib\\site-packages (from beautifulsoup4->bs4->autoscraper) (2.0.1)\n"
     ]
    }
   ],
   "source": [
    "!pip install autoscraper"
   ]
  },
  {
   "cell_type": "code",
   "execution_count": 113,
   "metadata": {},
   "outputs": [],
   "source": [
    "from autoscraper import AutoScraper"
   ]
  },
  {
   "cell_type": "code",
   "execution_count": 114,
   "metadata": {},
   "outputs": [],
   "source": [
    "Lok_sabha_url=\"http://164.100.47.194/Loksabha/Members/AlphabeticalList.aspx?search=A\"\n",
    "wanted_list=[\"A. Raja, Shri\",\"Dravida Munnetra Kazhagam\",\"Nilgiris (SC)(Tamil Nadu)\"]"
   ]
  },
  {
   "cell_type": "code",
   "execution_count": 115,
   "metadata": {},
   "outputs": [
    {
     "name": "stdout",
     "output_type": "stream",
     "text": [
      "['Dravida Munnetra Kazhagam', 'Bharatiya Janata Party', 'Jammu and Kashmir National Conference', 'All India Trinamool Congress', 'Communist Party of India (Marxist)', 'All India United Democratic Front', 'Independent', 'Bahujan Samaj Party', 'Indian National Congress', 'Nilgiris (SC)(Tamil Nadu)', 'Chitradurga (SC)(Karnataka)', 'Srinagar (Jammu and Kashmir)', 'Ghatal (West Bengal)', 'Tamluk (West Bengal)', 'Kanthi (West Bengal)', 'Alappuzha (Kerala)', 'Meerut (Uttar Pradesh)', 'Bardhaman-Durgapur (West Bengal)', 'Uluberia (West Bengal)', 'Janjgir-Champa (SC)(Chhattisgarh)', 'Dhubri (Assam)', 'Mandya (Karnataka)', 'Belgaum (Karnataka)', 'Tiruvannamalai (Tamil Nadu)', 'Kodarma (Jharkhand)', 'Ghazipur (Uttar Pradesh)', 'Pathanamthitta (Kerala)', 'Amritsar (Punjab)', 'Lalganj (SC)(Uttar Pradesh)']\n"
     ]
    }
   ],
   "source": [
    "scraper=AutoScraper()\n",
    "result=scraper.build(Lok_sabha_url,wanted_list)\n",
    "Data = scraper.get_result_similar(Lok_sabha_url,grouped=True)\n",
    "print(result)"
   ]
  },
  {
   "cell_type": "code",
   "execution_count": 116,
   "metadata": {},
   "outputs": [
    {
     "name": "stdout",
     "output_type": "stream",
     "text": [
      "['rule_biqm', 'rule_1r0p', 'rule_zn4g']\n"
     ]
    }
   ],
   "source": [
    "key = list(Data.keys())\n",
    "print(key)"
   ]
  },
  {
   "cell_type": "code",
   "execution_count": 117,
   "metadata": {},
   "outputs": [],
   "source": [
    "scraper.set_rule_aliases({'rule_biqm':'Name Of Member','rule_1r0p':'Party Name',\"rule_zn4g\":\"Constituency (State)\"})"
   ]
  },
  {
   "cell_type": "code",
   "execution_count": 118,
   "metadata": {},
   "outputs": [],
   "source": [
    "scraper.keep_rules(['rule_biqm','rule_1r0p','rule_zn4g'])\n",
    "scraper.save('Parliament_of_India_LOK_SABHA')"
   ]
  },
  {
   "cell_type": "code",
   "execution_count": 119,
   "metadata": {},
   "outputs": [],
   "source": [
    "scraper.load(\"C://Users//Muhammad Shakil/Practice ML/Parliament_of_India_LOK_SABHA\")"
   ]
  },
  {
   "cell_type": "code",
   "execution_count": 120,
   "metadata": {},
   "outputs": [],
   "source": [
    "result2 = scraper.get_result_similar(\"http://164.100.47.194/Loksabha/Members/AlphabeticalList.aspx\", group_by_alias=True)"
   ]
  },
  {
   "cell_type": "code",
   "execution_count": 121,
   "metadata": {},
   "outputs": [],
   "source": [
    "import pandas as pd"
   ]
  },
  {
   "cell_type": "code",
   "execution_count": 122,
   "metadata": {},
   "outputs": [
    {
     "data": {
      "text/html": [
       "<div>\n",
       "<style scoped>\n",
       "    .dataframe tbody tr th:only-of-type {\n",
       "        vertical-align: middle;\n",
       "    }\n",
       "\n",
       "    .dataframe tbody tr th {\n",
       "        vertical-align: top;\n",
       "    }\n",
       "\n",
       "    .dataframe thead th {\n",
       "        text-align: right;\n",
       "    }\n",
       "</style>\n",
       "<table border=\"1\" class=\"dataframe\">\n",
       "  <thead>\n",
       "    <tr style=\"text-align: right;\">\n",
       "      <th></th>\n",
       "      <th>Name Of Member</th>\n",
       "      <th>Party Name</th>\n",
       "      <th>Constituency (State)</th>\n",
       "    </tr>\n",
       "  </thead>\n",
       "  <tbody>\n",
       "    <tr>\n",
       "      <th>0</th>\n",
       "      <td>Dravida Munnetra Kazhagam</td>\n",
       "      <td>Dravida Munnetra Kazhagam</td>\n",
       "      <td>Nilgiris (SC)(Tamil Nadu)</td>\n",
       "    </tr>\n",
       "    <tr>\n",
       "      <th>1</th>\n",
       "      <td>Bharatiya Janata Party</td>\n",
       "      <td>Bharatiya Janata Party</td>\n",
       "      <td>Chitradurga (SC)(Karnataka)</td>\n",
       "    </tr>\n",
       "    <tr>\n",
       "      <th>2</th>\n",
       "      <td>Jammu and Kashmir National Conference</td>\n",
       "      <td>Jammu and Kashmir National Conference</td>\n",
       "      <td>Srinagar (Jammu and Kashmir)</td>\n",
       "    </tr>\n",
       "    <tr>\n",
       "      <th>3</th>\n",
       "      <td>All India Trinamool Congress</td>\n",
       "      <td>All India Trinamool Congress</td>\n",
       "      <td>Ghatal (West Bengal)</td>\n",
       "    </tr>\n",
       "    <tr>\n",
       "      <th>4</th>\n",
       "      <td>All India Trinamool Congress</td>\n",
       "      <td>All India Trinamool Congress</td>\n",
       "      <td>Tamluk (West Bengal)</td>\n",
       "    </tr>\n",
       "    <tr>\n",
       "      <th>...</th>\n",
       "      <td>...</td>\n",
       "      <td>...</td>\n",
       "      <td>...</td>\n",
       "    </tr>\n",
       "    <tr>\n",
       "      <th>538</th>\n",
       "      <td>Bharatiya Janata Party</td>\n",
       "      <td>Bharatiya Janata Party</td>\n",
       "      <td>Guna (Madhya Pradesh)</td>\n",
       "    </tr>\n",
       "    <tr>\n",
       "      <th>539</th>\n",
       "      <td>Samajwadi Party</td>\n",
       "      <td>Samajwadi Party</td>\n",
       "      <td>Mainpuri (Uttar Pradesh)</td>\n",
       "    </tr>\n",
       "    <tr>\n",
       "      <th>540</th>\n",
       "      <td>Bharatiya Janata Party</td>\n",
       "      <td>Bharatiya Janata Party</td>\n",
       "      <td>Pataliputra (Bihar)</td>\n",
       "    </tr>\n",
       "    <tr>\n",
       "      <th>541</th>\n",
       "      <td>Bahujan Samaj Party</td>\n",
       "      <td>Bahujan Samaj Party</td>\n",
       "      <td>Jaunpur (Uttar Pradesh)</td>\n",
       "    </tr>\n",
       "    <tr>\n",
       "      <th>542</th>\n",
       "      <td>Nationalist Democratic Progressive Party</td>\n",
       "      <td>Nationalist Democratic Progressive Party</td>\n",
       "      <td>Nagaland (Nagaland)</td>\n",
       "    </tr>\n",
       "  </tbody>\n",
       "</table>\n",
       "<p>543 rows × 3 columns</p>\n",
       "</div>"
      ],
      "text/plain": [
       "                               Name Of Member  \\\n",
       "0                   Dravida Munnetra Kazhagam   \n",
       "1                      Bharatiya Janata Party   \n",
       "2       Jammu and Kashmir National Conference   \n",
       "3                All India Trinamool Congress   \n",
       "4                All India Trinamool Congress   \n",
       "..                                        ...   \n",
       "538                    Bharatiya Janata Party   \n",
       "539                           Samajwadi Party   \n",
       "540                    Bharatiya Janata Party   \n",
       "541                       Bahujan Samaj Party   \n",
       "542  Nationalist Democratic Progressive Party   \n",
       "\n",
       "                                   Party Name          Constituency (State)  \n",
       "0                   Dravida Munnetra Kazhagam     Nilgiris (SC)(Tamil Nadu)  \n",
       "1                      Bharatiya Janata Party   Chitradurga (SC)(Karnataka)  \n",
       "2       Jammu and Kashmir National Conference  Srinagar (Jammu and Kashmir)  \n",
       "3                All India Trinamool Congress          Ghatal (West Bengal)  \n",
       "4                All India Trinamool Congress          Tamluk (West Bengal)  \n",
       "..                                        ...                           ...  \n",
       "538                    Bharatiya Janata Party         Guna (Madhya Pradesh)  \n",
       "539                           Samajwadi Party      Mainpuri (Uttar Pradesh)  \n",
       "540                    Bharatiya Janata Party           Pataliputra (Bihar)  \n",
       "541                       Bahujan Samaj Party       Jaunpur (Uttar Pradesh)  \n",
       "542  Nationalist Democratic Progressive Party           Nagaland (Nagaland)  \n",
       "\n",
       "[543 rows x 3 columns]"
      ]
     },
     "execution_count": 122,
     "metadata": {},
     "output_type": "execute_result"
    }
   ],
   "source": [
    "df = pd.DataFrame(dict([ (k,pd.Series(v)) for k,v in result2.items() ]))\n",
    "df"
   ]
  },
  {
   "cell_type": "code",
   "execution_count": 123,
   "metadata": {},
   "outputs": [],
   "source": [
    "df.to_csv('Parliament_of_India_LOK_SABHA.csv')"
   ]
  },
  {
   "cell_type": "code",
   "execution_count": null,
   "metadata": {},
   "outputs": [],
   "source": []
  }
 ],
 "metadata": {
  "kernelspec": {
   "display_name": "Python 3",
   "language": "python",
   "name": "python3"
  },
  "language_info": {
   "codemirror_mode": {
    "name": "ipython",
    "version": 3
   },
   "file_extension": ".py",
   "mimetype": "text/x-python",
   "name": "python",
   "nbconvert_exporter": "python",
   "pygments_lexer": "ipython3",
   "version": "3.8.5"
  }
 },
 "nbformat": 4,
 "nbformat_minor": 4
}
